{
  "nbformat": 4,
  "nbformat_minor": 0,
  "metadata": {
    "colab": {
      "name": "10-Monkey-Species-Image-Recognition.ipynb",
      "provenance": [],
      "collapsed_sections": [],
      "mount_file_id": "18oUVufHMetnCj-pGBZLmTzgJrv9YRRsD",
      "authorship_tag": "ABX9TyOiuV8q2jvuI1b7FkM+tCFD",
      "include_colab_link": true
    },
    "kernelspec": {
      "name": "python3",
      "display_name": "Python 3"
    },
    "language_info": {
      "name": "python"
    }
  },
  "cells": [
    {
      "cell_type": "markdown",
      "metadata": {
        "id": "view-in-github",
        "colab_type": "text"
      },
      "source": [
        "<a href=\"https://colab.research.google.com/github/UmutMD/monkey-classification-cnn-mobilenet/blob/main/10_Monkey_Species_Image_Recognition.ipynb\" target=\"_parent\"><img src=\"https://colab.research.google.com/assets/colab-badge.svg\" alt=\"Open In Colab\"/></a>"
      ]
    },
    {
      "cell_type": "markdown",
      "source": [
        "# About Dataset\n",
        "Content\n",
        "The dataset consists of two files, training and validation. Each folder contains 10 subforders labeled as n0~n9, each corresponding a species form Wikipedia's monkey cladogram. Images are 400x300 px or larger and JPEG format (almost 1400 images). Images were downloaded with help of the googliser open source code.\n",
        "\n",
        "https://www.kaggle.com/datasets/slothkong/10-monkey-species\n",
        "\n",
        "#Label mapping:\n",
        "n0, alouattapalliata n1, erythrocebuspatas\n",
        "n2, cacajaocalvus n3, macacafuscata\n",
        "n4, cebuellapygmea n5, cebuscapucinus\n",
        "n6, micoargentatus n7, saimirisciureus\n",
        "n8, aotusnigriceps n9, trachypithecusjohnii\n",
        "\n",
        "For more information on the monkey species and number of images per class make sure to check monkey_labels.txt file.\n",
        "Aim\n",
        "This dataset is intended as a test case for fine-grain classification tasks, perhaps best used in combination with transfer learning. Hopefully someone can help us expand the number of classes or number of images."
      ],
      "metadata": {
        "id": "fgH094WR7i0n"
      }
    },
    {
      "cell_type": "markdown",
      "source": [
        "**data and loading in**\n"
      ],
      "metadata": {
        "id": "1ZMZL7jX-WV9"
      }
    },
    {
      "cell_type": "code",
      "execution_count": 1,
      "metadata": {
        "id": "7HeAreTj1cwK"
      },
      "outputs": [],
      "source": [
        "import numpy as np\n",
        "import pandas as pd\n",
        "\n",
        "import tensorflow as tf\n",
        "import tensorflow_hub as hub"
      ]
    },
    {
      "cell_type": "code",
      "source": [
        "from google.colab import drive\n",
        "drive.mount('/content/drive/')\n",
        "\n",
        "from zipfile import ZipFile\n",
        "file_name='/content/drive/MyDrive/Projects/archive.zip'\n",
        "with ZipFile(file_name,'r') as Zip:\n",
        "  Zip.extractall()"
      ],
      "metadata": {
        "colab": {
          "base_uri": "https://localhost:8080/"
        },
        "id": "K0TbrMtN3nFG",
        "outputId": "9d66dcd8-8cb2-4bd3-825a-df295a066c78"
      },
      "execution_count": 2,
      "outputs": [
        {
          "output_type": "stream",
          "name": "stdout",
          "text": [
            "Drive already mounted at /content/drive/; to attempt to forcibly remount, call drive.mount(\"/content/drive/\", force_remount=True).\n"
          ]
        }
      ]
    },
    {
      "cell_type": "markdown",
      "source": [
        "Code block [2] did not work as it previously worked with .csv files\n",
        "\n",
        "I extracted folders to the drive to import directly from it."
      ],
      "metadata": {
        "id": "LMgeJ5-g62By"
      }
    },
    {
      "cell_type": "code",
      "source": [
        "train_dir = '/content/drive/MyDrive/Projects/training'\n",
        "test_dir = '/content/drive/MyDrive/Projects/validation'"
      ],
      "metadata": {
        "id": "mhfUfbXw4FX8"
      },
      "execution_count": 3,
      "outputs": []
    },
    {
      "cell_type": "code",
      "source": [
        "train_dir\n",
        "test_dir"
      ],
      "metadata": {
        "colab": {
          "base_uri": "https://localhost:8080/",
          "height": 35
        },
        "id": "0ara_IDL9MYZ",
        "outputId": "f85087f7-ed50-435d-86fc-f7a89271af95"
      },
      "execution_count": 4,
      "outputs": [
        {
          "output_type": "execute_result",
          "data": {
            "text/plain": [
              "'/content/drive/MyDrive/Projects/validation'"
            ],
            "application/vnd.google.colaboratory.intrinsic+json": {
              "type": "string"
            }
          },
          "metadata": {},
          "execution_count": 4
        }
      ]
    },
    {
      "cell_type": "code",
      "source": [
        "BATCH_SIZE= 16\n",
        "\n",
        "IMAGE_HEIGHT =224\n",
        "IMAGE_WIDTH = 224\n"
      ],
      "metadata": {
        "id": "3BJrd0YX-JCo"
      },
      "execution_count": 5,
      "outputs": []
    },
    {
      "cell_type": "markdown",
      "source": [
        "dataset generator for train"
      ],
      "metadata": {
        "id": "suQ1qxMa-sQj"
      }
    },
    {
      "cell_type": "code",
      "source": [
        "train_generator = tf.keras.preprocessing.image.ImageDataGenerator (\n",
        "    rescale = 1./255,\n",
        "    rotation_range =90,\n",
        "    width_shift_range = 0.8,\n",
        "    height_shift_range = 0.5,\n",
        "    validation_split =0.3\n",
        ")\n",
        "\n",
        "test_generator = tf.keras.preprocessing.image.ImageDataGenerator(rescale = 1./255)"
      ],
      "metadata": {
        "id": "bib2kFpa-vtY"
      },
      "execution_count": 6,
      "outputs": []
    },
    {
      "cell_type": "code",
      "source": [
        "train_data = train_generator.flow_from_directory(\n",
        "      train_dir,\n",
        "      target_size = ( IMAGE_HEIGHT, IMAGE_WIDTH),\n",
        "      batch_size = BATCH_SIZE,\n",
        "      subset= 'training'\n",
        ")\n",
        "\n",
        "validation_data = train_generator.flow_from_directory(\n",
        "      train_dir,\n",
        "      target_size = ( IMAGE_HEIGHT, IMAGE_WIDTH),\n",
        "      batch_size = BATCH_SIZE,\n",
        "      subset= 'validation'\n",
        ")\n",
        "\n",
        "test_data = train_generator.flow_from_directory(\n",
        "      train_dir,\n",
        "      target_size = ( IMAGE_HEIGHT, IMAGE_WIDTH),\n",
        "      batch_size = BATCH_SIZE\n",
        ")\n"
      ],
      "metadata": {
        "colab": {
          "base_uri": "https://localhost:8080/"
        },
        "id": "5jIsLg5xBzMF",
        "outputId": "52408136-8375-4832-bc4f-647aadb63901"
      },
      "execution_count": 7,
      "outputs": [
        {
          "output_type": "stream",
          "name": "stdout",
          "text": [
            "Found 769 images belonging to 1 classes.\n",
            "Found 329 images belonging to 1 classes.\n",
            "Found 1098 images belonging to 1 classes.\n"
          ]
        }
      ]
    },
    {
      "cell_type": "markdown",
      "source": [
        "# Model building\n"
      ],
      "metadata": {
        "id": "DBV7AEuyDrVm"
      }
    },
    {
      "cell_type": "code",
      "source": [
        "pretrained = tf.keras.applications.MobileNet(\n",
        "    weights = 'imagenet',\n",
        "    include_top =False,\n",
        "    pooling ='avg',\n",
        "    input_shape = (IMAGE_HEIGHT, IMAGE_WIDTH, 3)\n",
        ")\n",
        "pretrained.trainable =False"
      ],
      "metadata": {
        "id": "B5DPqTdJDt4m"
      },
      "execution_count": 8,
      "outputs": []
    },
    {
      "cell_type": "markdown",
      "source": [
        "Model"
      ],
      "metadata": {
        "id": "p_qxBzoM2CF8"
      }
    },
    {
      "cell_type": "code",
      "source": [
        "inputs = tf.keras.Input (shape = (IMAGE_HEIGHT, IMAGE_WIDTH,3))\n",
        "\n",
        "x = pretrained(inputs, training =False)\n",
        "x = tf.keras.layers.Dense (1024, activation='relu')(x)\n",
        "x = tf.keras.layers.Dense(512, activation = 'relu')(x)\n",
        "outputs = tf.keras.layers.Dense (10, activation=  'softmax')(x)\n",
        "\n",
        "model = tf.keras.Model(inputs, outputs)\n"
      ],
      "metadata": {
        "id": "HeWkMboD1zm2"
      },
      "execution_count": 9,
      "outputs": []
    },
    {
      "cell_type": "code",
      "source": [
        "model.summary()"
      ],
      "metadata": {
        "colab": {
          "base_uri": "https://localhost:8080/"
        },
        "id": "AyBdGVgg3hC_",
        "outputId": "84f66f9d-c9a4-4fed-9751-984d79527ac0"
      },
      "execution_count": 10,
      "outputs": [
        {
          "output_type": "stream",
          "name": "stdout",
          "text": [
            "Model: \"model\"\n",
            "_________________________________________________________________\n",
            " Layer (type)                Output Shape              Param #   \n",
            "=================================================================\n",
            " input_2 (InputLayer)        [(None, 224, 224, 3)]     0         \n",
            "                                                                 \n",
            " mobilenet_1.00_224 (Functio  (None, 1024)             3228864   \n",
            " nal)                                                            \n",
            "                                                                 \n",
            " dense (Dense)               (None, 1024)              1049600   \n",
            "                                                                 \n",
            " dense_1 (Dense)             (None, 512)               524800    \n",
            "                                                                 \n",
            " dense_2 (Dense)             (None, 10)                5130      \n",
            "                                                                 \n",
            "=================================================================\n",
            "Total params: 4,808,394\n",
            "Trainable params: 1,579,530\n",
            "Non-trainable params: 3,228,864\n",
            "_________________________________________________________________\n"
          ]
        }
      ]
    },
    {
      "cell_type": "code",
      "source": [
        "model.compile(\n",
        "    optimizer = 'adam',\n",
        "    loss= 'categorical_crossentropy',\n",
        "    metrics = [ 'accuracy']\n",
        "\n",
        "\n",
        ")\n",
        "\n",
        "EPOCHS= 20\n",
        "\n",
        "history = model.fit (\n",
        "      train_data,\n",
        "      validation_data = validation_data,\n",
        "      batch_size = BATCH_SIZE,\n",
        "      epochs=EPOCHS,\n",
        "      callbacks =[\n",
        "                  tf.keras.callbacks.EarlyStopping(\n",
        "                      monitor ='val_loss',\n",
        "                      patience =10,\n",
        "                      restore_best_weights = True,\n",
        "                      verbose=1\n",
        "\n",
        "                  )\n",
        "\n",
        "      ],\n",
        "      verbose =2\n",
        "\n",
        "\n",
        ")"
      ],
      "metadata": {
        "colab": {
          "base_uri": "https://localhost:8080/"
        },
        "id": "VI5a2mHV3mN5",
        "outputId": "ac0c00de-293c-4f2a-aaff-a02c2807ccda"
      },
      "execution_count": 11,
      "outputs": [
        {
          "output_type": "stream",
          "name": "stdout",
          "text": [
            "Epoch 1/20\n",
            "49/49 - 72s - loss: 1159.1805 - accuracy: 0.0325 - val_loss: 2491.9456 - val_accuracy: 0.0000e+00 - 72s/epoch - 1s/step\n",
            "Epoch 2/20\n",
            "49/49 - 70s - loss: 3401.4526 - accuracy: 0.1053 - val_loss: 5677.7168 - val_accuracy: 0.0000e+00 - 70s/epoch - 1s/step\n",
            "Epoch 3/20\n",
            "49/49 - 70s - loss: 10041.9033 - accuracy: 0.0832 - val_loss: 14374.2324 - val_accuracy: 0.0000e+00 - 70s/epoch - 1s/step\n",
            "Epoch 4/20\n",
            "49/49 - 67s - loss: 24723.7070 - accuracy: 0.1040 - val_loss: 50917.0898 - val_accuracy: 0.0000e+00 - 67s/epoch - 1s/step\n",
            "Epoch 5/20\n",
            "49/49 - 67s - loss: 57190.3008 - accuracy: 0.1040 - val_loss: 82753.6328 - val_accuracy: 0.0000e+00 - 67s/epoch - 1s/step\n",
            "Epoch 6/20\n",
            "49/49 - 69s - loss: 99694.9688 - accuracy: 0.0832 - val_loss: 116418.4062 - val_accuracy: 0.0000e+00 - 69s/epoch - 1s/step\n",
            "Epoch 7/20\n",
            "49/49 - 67s - loss: 155178.2344 - accuracy: 0.1248 - val_loss: 167585.7812 - val_accuracy: 0.0000e+00 - 67s/epoch - 1s/step\n",
            "Epoch 8/20\n",
            "49/49 - 67s - loss: 161410.3906 - accuracy: 0.0637 - val_loss: 164583.3125 - val_accuracy: 0.0000e+00 - 67s/epoch - 1s/step\n",
            "Epoch 9/20\n",
            "49/49 - 69s - loss: 205558.2812 - accuracy: 0.1248 - val_loss: 374240.4688 - val_accuracy: 0.0000e+00 - 69s/epoch - 1s/step\n",
            "Epoch 10/20\n",
            "49/49 - 68s - loss: 311238.7812 - accuracy: 0.0832 - val_loss: 452231.0625 - val_accuracy: 0.0000e+00 - 68s/epoch - 1s/step\n",
            "Epoch 11/20\n",
            "Restoring model weights from the end of the best epoch: 1.\n",
            "49/49 - 68s - loss: 455275.6562 - accuracy: 0.1248 - val_loss: 441987.5938 - val_accuracy: 0.0000e+00 - 68s/epoch - 1s/step\n",
            "Epoch 11: early stopping\n"
          ]
        }
      ]
    },
    {
      "cell_type": "code",
      "source": [
        "model.evaluate(test_data)"
      ],
      "metadata": {
        "colab": {
          "base_uri": "https://localhost:8080/"
        },
        "id": "gA0CkfIx5NIq",
        "outputId": "c51cbf7c-3e00-4f63-d5dd-cad94a4caf2a"
      },
      "execution_count": 12,
      "outputs": [
        {
          "output_type": "stream",
          "name": "stdout",
          "text": [
            "69/69 [==============================] - 69s 1s/step - loss: 2458.9285 - accuracy: 0.0000e+00\n"
          ]
        },
        {
          "output_type": "execute_result",
          "data": {
            "text/plain": [
              "[2458.928466796875, 0.0]"
            ]
          },
          "metadata": {},
          "execution_count": 12
        }
      ]
    }
  ]
}