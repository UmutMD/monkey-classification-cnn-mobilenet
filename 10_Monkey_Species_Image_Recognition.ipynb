{
  "nbformat": 4,
  "nbformat_minor": 0,
  "metadata": {
    "colab": {
      "name": "10-Monkey-Species-Image-Recognition.ipynb",
      "provenance": [],
      "mount_file_id": "18oUVufHMetnCj-pGBZLmTzgJrv9YRRsD",
      "authorship_tag": "ABX9TyOiDI3yOFbgDHL4XdQ1rkxg",
      "include_colab_link": true
    },
    "kernelspec": {
      "name": "python3",
      "display_name": "Python 3"
    },
    "language_info": {
      "name": "python"
    }
  },
  "cells": [
    {
      "cell_type": "markdown",
      "metadata": {
        "id": "view-in-github",
        "colab_type": "text"
      },
      "source": [
        "<a href=\"https://colab.research.google.com/github/UmutMD/monkey-classification-cnn-mobilenet/blob/main/10_Monkey_Species_Image_Recognition.ipynb\" target=\"_parent\"><img src=\"https://colab.research.google.com/assets/colab-badge.svg\" alt=\"Open In Colab\"/></a>"
      ]
    },
    {
      "cell_type": "markdown",
      "source": [
        "# About Dataset\n",
        "Content\n",
        "The dataset consists of two files, training and validation. Each folder contains 10 subforders labeled as n0~n9, each corresponding a species form Wikipedia's monkey cladogram. Images are 400x300 px or larger and JPEG format (almost 1400 images). Images were downloaded with help of the googliser open source code.\n",
        "\n",
        "https://www.kaggle.com/datasets/slothkong/10-monkey-species\n",
        "\n",
        "#Label mapping:\n",
        "n0, alouattapalliata n1, erythrocebuspatas\n",
        "n2, cacajaocalvus n3, macacafuscata\n",
        "n4, cebuellapygmea n5, cebuscapucinus\n",
        "n6, micoargentatus n7, saimirisciureus\n",
        "n8, aotusnigriceps n9, trachypithecusjohnii\n",
        "\n",
        "For more information on the monkey species and number of images per class make sure to check monkey_labels.txt file.\n",
        "Aim\n",
        "This dataset is intended as a test case for fine-grain classification tasks, perhaps best used in combination with transfer learning. Hopefully someone can help us expand the number of classes or number of images."
      ],
      "metadata": {
        "id": "fgH094WR7i0n"
      }
    },
    {
      "cell_type": "markdown",
      "source": [
        "**data and loading in**\n"
      ],
      "metadata": {
        "id": "1ZMZL7jX-WV9"
      }
    },
    {
      "cell_type": "code",
      "execution_count": 1,
      "metadata": {
        "id": "7HeAreTj1cwK"
      },
      "outputs": [],
      "source": [
        "import numpy as np\n",
        "import pandas as pd\n",
        "\n",
        "import tensorflow as tf\n",
        "import tensorflow_hub as hub"
      ]
    },
    {
      "cell_type": "code",
      "source": [
        "from google.colab import drive\n",
        "drive.mount('/content/drive/')\n",
        "\n",
        "from zipfile import ZipFile\n",
        "file_name='/content/drive/MyDrive/Projects/archive.zip'\n",
        "with ZipFile(file_name,'r') as Zip:\n",
        "  Zip.extractall()"
      ],
      "metadata": {
        "colab": {
          "base_uri": "https://localhost:8080/"
        },
        "id": "K0TbrMtN3nFG",
        "outputId": "fbea4524-a7d3-4526-ccae-78a351e3c779"
      },
      "execution_count": 2,
      "outputs": [
        {
          "output_type": "stream",
          "name": "stdout",
          "text": [
            "Mounted at /content/drive/\n"
          ]
        }
      ]
    },
    {
      "cell_type": "markdown",
      "source": [
        "Code block [2] did not work as it previously worked with .csv files\n",
        "\n",
        "I extracted folders to the drive to import directly from it."
      ],
      "metadata": {
        "id": "LMgeJ5-g62By"
      }
    },
    {
      "cell_type": "code",
      "source": [
        "train_dir = '/content/drive/MyDrive/Projects/training'\n",
        "test_dir = '/content/drive/MyDrive/Projects/validation'"
      ],
      "metadata": {
        "id": "mhfUfbXw4FX8"
      },
      "execution_count": 7,
      "outputs": []
    },
    {
      "cell_type": "code",
      "source": [
        "train_dir\n",
        "test_dir"
      ],
      "metadata": {
        "colab": {
          "base_uri": "https://localhost:8080/",
          "height": 35
        },
        "id": "0ara_IDL9MYZ",
        "outputId": "48b5023b-352f-48b1-d7e7-3ac3a42d467e"
      },
      "execution_count": 8,
      "outputs": [
        {
          "output_type": "execute_result",
          "data": {
            "text/plain": [
              "'/content/drive/MyDrive/Projects/validation'"
            ],
            "application/vnd.google.colaboratory.intrinsic+json": {
              "type": "string"
            }
          },
          "metadata": {},
          "execution_count": 8
        }
      ]
    },
    {
      "cell_type": "code",
      "source": [
        "BATCH_SIZE= 16\n",
        "\n",
        "IMAGE_HEIGHT =224\n",
        "IMAGE_WIDTH = 224\n"
      ],
      "metadata": {
        "id": "3BJrd0YX-JCo"
      },
      "execution_count": 9,
      "outputs": []
    },
    {
      "cell_type": "markdown",
      "source": [
        "dataset generator for train"
      ],
      "metadata": {
        "id": "suQ1qxMa-sQj"
      }
    },
    {
      "cell_type": "code",
      "source": [
        "train_generator = tf.keras.preprocessing.image.ImageDataGenerator (\n",
        "    rescale = 1./255,\n",
        "    rotation_range =90,\n",
        "    width_shift_range = 0.8,\n",
        "    height_shift_range = 0.5,\n",
        "    validation_split =0.3\n",
        ")\n",
        "\n",
        "test_generator = tf.keras.preprocessing.image.ImageDataGenerator(rescale = 1./255)"
      ],
      "metadata": {
        "id": "bib2kFpa-vtY"
      },
      "execution_count": 10,
      "outputs": []
    },
    {
      "cell_type": "code",
      "source": [
        "train_data = train_generator.flow_from_directory(\n",
        "      train_dir,\n",
        "      target_size = ( IMAGE_HEIGHT, IMAGE_WIDTH),\n",
        "      batch_size = BATCH_SIZE,\n",
        "      subset= 'training'\n",
        ")\n",
        "\n",
        "validation_data = train_generator.flow_from_directory(\n",
        "      train_dir,\n",
        "      target_size = ( IMAGE_HEIGHT, IMAGE_WIDTH),\n",
        "      batch_size = BATCH_SIZE,\n",
        "      subset= 'validation'\n",
        ")\n",
        "\n",
        "test_data = train_generator.flow_from_directory(\n",
        "      train_dir,\n",
        "      target_size = ( IMAGE_HEIGHT, IMAGE_WIDTH),\n",
        "      batch_size = BATCH_SIZE\n",
        ")\n"
      ],
      "metadata": {
        "colab": {
          "base_uri": "https://localhost:8080/"
        },
        "id": "5jIsLg5xBzMF",
        "outputId": "03a1b8bf-a8ce-4332-cc83-6126b38ac200"
      },
      "execution_count": 11,
      "outputs": [
        {
          "output_type": "stream",
          "name": "stdout",
          "text": [
            "Found 769 images belonging to 1 classes.\n",
            "Found 329 images belonging to 1 classes.\n",
            "Found 1098 images belonging to 1 classes.\n"
          ]
        }
      ]
    },
    {
      "cell_type": "markdown",
      "source": [
        "# Model building\n"
      ],
      "metadata": {
        "id": "DBV7AEuyDrVm"
      }
    },
    {
      "cell_type": "code",
      "source": [
        "pretrained = tf.keras.applications.MobileNet(\n",
        "    weights = 'imagenet',\n",
        "    include_top =False,\n",
        "    pooling ='avg',\n",
        "    input_shape = (IMAGE_HEIGHT, IMAGE_WIDTH, 3)\n",
        ")\n",
        "pretrained.trainable =False"
      ],
      "metadata": {
        "colab": {
          "base_uri": "https://localhost:8080/"
        },
        "id": "B5DPqTdJDt4m",
        "outputId": "35bd0f22-f58b-4a29-8036-b52cf23b8d5c"
      },
      "execution_count": 17,
      "outputs": [
        {
          "output_type": "stream",
          "name": "stdout",
          "text": [
            "Downloading data from https://storage.googleapis.com/tensorflow/keras-applications/mobilenet/mobilenet_1_0_224_tf_no_top.h5\n",
            "17227776/17225924 [==============================] - 0s 0us/step\n",
            "17235968/17225924 [==============================] - 0s 0us/step\n"
          ]
        }
      ]
    }
  ]
}